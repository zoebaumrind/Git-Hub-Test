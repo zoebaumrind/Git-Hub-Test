{
 "cells": [
  {
   "cell_type": "code",
   "execution_count": 2,
   "id": "7263faa6",
   "metadata": {},
   "outputs": [
    {
     "name": "stdout",
     "output_type": "stream",
     "text": [
      "Welcome to Guess the Number Game!\n",
      "I'm thinking of a number between 1 and 100. Can you guess it?\n",
      "Enter your guess: 18\n",
      "Too low! Try again.\n",
      "Enter your guess: 24\n",
      "Too low! Try again.\n",
      "Enter your guess: 50\n",
      "Too high! Try again.\n",
      "Enter your guess: 40\n",
      "Too high! Try again.\n",
      "Enter your guess: 30\n",
      "Too low! Try again.\n",
      "Enter your guess: 35\n",
      "Too high! Try again.\n",
      "Enter your guess: 32\n",
      "Too low! Try again.\n",
      "Enter your guess: 33\n",
      "Congratulations! You've guessed the number.\n"
     ]
    }
   ],
   "source": [
    "# Guess the Number Game - This is a simple guessing game where the player tries to guess a randomly generated number within a specified range. The game provides hints to guide the player towards the correct answer.\n",
    "## Partner Contributions\n",
    "\n",
    "#Zoe Baumrind: Wrote the main game logic, including generating the random number, providing hints, and handling user input.\n",
    "#Brooke Ricca: Implemented the user interface, including displaying prompts, receiving user input, and providing feedback to the player.\n",
    "\n",
    "import random #The random module is used to generate random numbers.\n",
    "\n",
    "class GuessTheNumber:\n",
    "    def __init__(self, min_num, max_num):\n",
    "        self.min_num = min_num\n",
    "        self.max_num = max_num\n",
    "        self.secret_number = random.randint(min_num, max_num)\n",
    "\n",
    "    def check_guess(self, guess):\n",
    "        \"\"\"Check if the guess is correct and provide feedback.\"\"\"\n",
    "        if guess < self.secret_number:\n",
    "            return \"Too low! Try again.\"\n",
    "        elif guess > self.secret_number:\n",
    "            return \"Too high! Try again.\"\n",
    "        else:\n",
    "            return \"Congratulations! You've guessed the number.\"\n",
    "\n",
    "def main():\n",
    "    min_num = 1\n",
    "    max_num = 100\n",
    "    game = GuessTheNumber(min_num, max_num)\n",
    "    print(\"Welcome to Guess the Number Game!\")\n",
    "    print(f\"I'm thinking of a number between {min_num} and {max_num}. Can you guess it?\")\n",
    "\n",
    "    while True:\n",
    "        guess = input(\"Enter your guess: \") #The input() function is utilized to get user input.\n",
    "        \n",
    "        # Validate input\n",
    "        try:\n",
    "            guess = int(guess)\n",
    "        except ValueError:\n",
    "            print(\"Please enter a valid number.\")\n",
    "            continue\n",
    "        \n",
    "        # Check the guess\n",
    "        feedback = game.check_guess(guess)\n",
    "        print(feedback)\n",
    "\n",
    "        if guess == game.secret_number:\n",
    "            break\n",
    "\n",
    "if __name__ == \"__main__\":\n",
    "    main()"
   ]
  },
  {
   "cell_type": "code",
   "execution_count": null,
   "id": "a1e97745",
   "metadata": {},
   "outputs": [],
   "source": []
  }
 ],
 "metadata": {
  "kernelspec": {
   "display_name": "Python 3 (ipykernel)",
   "language": "python",
   "name": "python3"
  },
  "language_info": {
   "codemirror_mode": {
    "name": "ipython",
    "version": 3
   },
   "file_extension": ".py",
   "mimetype": "text/x-python",
   "name": "python",
   "nbconvert_exporter": "python",
   "pygments_lexer": "ipython3",
   "version": "3.11.5"
  }
 },
 "nbformat": 4,
 "nbformat_minor": 5
}
